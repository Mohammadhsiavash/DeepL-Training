{
  "nbformat": 4,
  "nbformat_minor": 0,
  "metadata": {
    "colab": {
      "provenance": [],
      "gpuType": "T4",
      "authorship_tag": "ABX9TyPY7lvreiCCbbkAxFBP+fyS",
      "include_colab_link": true
    },
    "kernelspec": {
      "name": "python3",
      "display_name": "Python 3"
    },
    "language_info": {
      "name": "python"
    },
    "accelerator": "GPU"
  },
  "cells": [
    {
      "cell_type": "markdown",
      "metadata": {
        "id": "view-in-github",
        "colab_type": "text"
      },
      "source": [
        "<a href=\"https://colab.research.google.com/github/Mohammadhsiavash/DeepL-Training/blob/main/Unsupervised%2BSemi-Supervised/Question_Answering_System_(Using_Transformers).ipynb\" target=\"_parent\"><img src=\"https://colab.research.google.com/assets/colab-badge.svg\" alt=\"Open In Colab\"/></a>"
      ]
    },
    {
      "cell_type": "markdown",
      "source": [
        "Build a closed-book QA system using a pretrained Transformer model that answers questions based on a given paragraph or passage."
      ],
      "metadata": {
        "id": "C3kCPm81MQ4o"
      }
    },
    {
      "cell_type": "code",
      "execution_count": 2,
      "metadata": {
        "id": "ltWamV2tMLIS"
      },
      "outputs": [],
      "source": [
        "context = \"\"\"\n",
        "The Eiffel Tower is a wrought-iron lattice tower on the Champ de Mars in Paris\n",
        "It is named after the engineer Gustave Eiffel, whose company designed and buil\n",
        "Constructed from 1887 to 1889 as the entrance to the 1889 World's Fair, it was\n",
        "\"\"\"\n",
        "question = \"Who designed the Eiffel Tower?\""
      ]
    },
    {
      "cell_type": "markdown",
      "metadata": {
        "id": "bb6239bd"
      },
      "source": [
        "## Advanced Question Answering\n",
        "\n"
      ]
    },
    {
      "cell_type": "code",
      "metadata": {
        "colab": {
          "base_uri": "https://localhost:8080/"
        },
        "id": "a5aa0067",
        "outputId": "961d0a45-6ad8-4e6b-a59d-5fcf30105e0f"
      },
      "source": [
        "from transformers import pipeline\n",
        "\n",
        "# Load a smaller QA pipeline model\n",
        "qa_pipeline_smaller = pipeline(\"question-answering\", model=\"distilbert-base-uncased-distilled-squad\", device=0)\n",
        "\n",
        "# Predict the answer using the smaller model\n",
        "result_smaller = qa_pipeline_smaller({'question': question, 'context': context})\n",
        "print(\"Answer (Smaller Model):\", result_smaller['answer'])"
      ],
      "execution_count": 3,
      "outputs": [
        {
          "output_type": "stream",
          "name": "stderr",
          "text": [
            "Device set to use cuda:0\n",
            "/usr/local/lib/python3.11/dist-packages/transformers/pipelines/question_answering.py:395: FutureWarning: Passing a list of SQuAD examples to the pipeline is deprecated and will be removed in v5. Inputs should be passed using the `question` and `context` keyword arguments instead.\n",
            "  warnings.warn(\n"
          ]
        },
        {
          "output_type": "stream",
          "name": "stdout",
          "text": [
            "Answer (Smaller Model): Gustave Eiffel\n"
          ]
        }
      ]
    }
  ]
}