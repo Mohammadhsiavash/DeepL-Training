{
  "nbformat": 4,
  "nbformat_minor": 0,
  "metadata": {
    "colab": {
      "provenance": [],
      "authorship_tag": "ABX9TyOKKLM3xsUOtYxzXEPOmmBr",
      "include_colab_link": true
    },
    "kernelspec": {
      "name": "python3",
      "display_name": "Python 3"
    },
    "language_info": {
      "name": "python"
    }
  },
  "cells": [
    {
      "cell_type": "markdown",
      "metadata": {
        "id": "view-in-github",
        "colab_type": "text"
      },
      "source": [
        "<a href=\"https://colab.research.google.com/github/Mohammadhsiavash/DeepL-Training/blob/main/Speech%20and%20Audio/02_Text_to_Speech_with_ElevenLabs_or_Coqui.ipynb\" target=\"_parent\"><img src=\"https://colab.research.google.com/assets/colab-badge.svg\" alt=\"Open In Colab\"/></a>"
      ]
    },
    {
      "cell_type": "markdown",
      "source": [
        "Turn any input text into audio speech output, with support for voice selection, saving\n",
        "to file, and real-time playback.\n",
        "Two Implementation Options\n",
        "\n",
        "ElevenLabs:\n",
        "Ultra-realisc voices, easy API\n",
        "Requires API key, cloud\n",
        "\n",
        "Coqui TTS:\n",
        "Offline, open-source, customizable\n",
        "Heavier install"
      ],
      "metadata": {
        "id": "zmSvr2Se6Fdt"
      }
    },
    {
      "cell_type": "markdown",
      "source": [
        "# Coqui TTS (Fully Offline)"
      ],
      "metadata": {
        "id": "mrgG5iFP7G0l"
      }
    },
    {
      "cell_type": "code",
      "source": [
        "!pip install TTS"
      ],
      "metadata": {
        "colab": {
          "base_uri": "https://localhost:8080/"
        },
        "id": "OSicvhg16yis",
        "outputId": "238dd554-0a9d-4e4f-dfbf-bb59d451c66b"
      },
      "execution_count": null,
      "outputs": [
        {
          "output_type": "stream",
          "name": "stdout",
          "text": [
            "\u001b[31mERROR: Ignored the following versions that require a different python version: 0.0.10.2 Requires-Python >=3.6.0, <3.9; 0.0.10.3 Requires-Python >=3.6.0, <3.9; 0.0.11 Requires-Python >=3.6.0, <3.9; 0.0.12 Requires-Python >=3.6.0, <3.9; 0.0.13.1 Requires-Python >=3.6.0, <3.9; 0.0.13.2 Requires-Python >=3.6.0, <3.9; 0.0.14.1 Requires-Python >=3.6.0, <3.9; 0.0.15 Requires-Python >=3.6.0, <3.9; 0.0.15.1 Requires-Python >=3.6.0, <3.9; 0.0.9 Requires-Python >=3.6.0, <3.9; 0.0.9.1 Requires-Python >=3.6.0, <3.9; 0.0.9.2 Requires-Python >=3.6.0, <3.9; 0.0.9a10 Requires-Python >=3.6.0, <3.9; 0.0.9a9 Requires-Python >=3.6.0, <3.9; 0.1.0 Requires-Python >=3.6.0, <3.10; 0.1.1 Requires-Python >=3.6.0, <3.10; 0.1.2 Requires-Python >=3.6.0, <3.10; 0.1.3 Requires-Python >=3.6.0, <3.10; 0.10.0 Requires-Python >=3.7.0, <3.11; 0.10.1 Requires-Python >=3.7.0, <3.11; 0.10.2 Requires-Python >=3.7.0, <3.11; 0.11.0 Requires-Python >=3.7.0, <3.11; 0.11.1 Requires-Python >=3.7.0, <3.11; 0.12.0 Requires-Python >=3.7.0, <3.11; 0.13.0 Requires-Python >=3.7.0, <3.11; 0.13.1 Requires-Python >=3.7.0, <3.11; 0.13.2 Requires-Python >=3.7.0, <3.11; 0.13.3 Requires-Python >=3.7.0, <3.11; 0.14.0 Requires-Python >=3.7.0, <3.11; 0.14.2 Requires-Python >=3.7.0, <3.11; 0.14.3 Requires-Python >=3.7.0, <3.11; 0.15.0 Requires-Python >=3.9.0, <3.12; 0.15.1 Requires-Python >=3.9.0, <3.12; 0.15.2 Requires-Python >=3.9.0, <3.12; 0.15.4 Requires-Python >=3.9.0, <3.12; 0.15.5 Requires-Python >=3.9.0, <3.12; 0.15.6 Requires-Python >=3.9.0, <3.12; 0.16.0 Requires-Python >=3.9.0, <3.12; 0.16.1 Requires-Python >=3.9.0, <3.12; 0.16.3 Requires-Python >=3.9.0, <3.12; 0.16.4 Requires-Python >=3.9.0, <3.12; 0.16.5 Requires-Python >=3.9.0, <3.12; 0.16.6 Requires-Python >=3.9.0, <3.12; 0.17.0 Requires-Python >=3.9.0, <3.12; 0.17.1 Requires-Python >=3.9.0, <3.12; 0.17.2 Requires-Python >=3.9.0, <3.12; 0.17.4 Requires-Python >=3.9.0, <3.12; 0.17.5 Requires-Python >=3.9.0, <3.12; 0.17.6 Requires-Python >=3.9.0, <3.12; 0.17.7 Requires-Python >=3.9.0, <3.12; 0.17.8 Requires-Python >=3.9.0, <3.12; 0.17.9 Requires-Python >=3.9.0, <3.12; 0.18.0 Requires-Python >=3.9.0, <3.12; 0.18.1 Requires-Python >=3.9.0, <3.12; 0.18.2 Requires-Python >=3.9.0, <3.12; 0.19.0 Requires-Python >=3.9.0, <3.12; 0.19.1 Requires-Python >=3.9.0, <3.12; 0.2.0 Requires-Python >=3.6.0, <3.10; 0.2.1 Requires-Python >=3.6.0, <3.10; 0.2.2 Requires-Python >=3.6.0, <3.10; 0.20.0 Requires-Python >=3.9.0, <3.12; 0.20.1 Requires-Python >=3.9.0, <3.12; 0.20.2 Requires-Python >=3.9.0, <3.12; 0.20.3 Requires-Python >=3.9.0, <3.12; 0.20.4 Requires-Python >=3.9.0, <3.12; 0.20.5 Requires-Python >=3.9.0, <3.12; 0.20.6 Requires-Python >=3.9.0, <3.12; 0.21.0 Requires-Python >=3.9.0, <3.12; 0.21.1 Requires-Python >=3.9.0, <3.12; 0.21.2 Requires-Python >=3.9.0, <3.12; 0.21.3 Requires-Python >=3.9.0, <3.12; 0.22.0 Requires-Python >=3.9.0, <3.12; 0.3.0 Requires-Python >=3.6.0, <3.10; 0.3.1 Requires-Python >=3.6.0, <3.10; 0.4.0 Requires-Python >=3.6.0, <3.10; 0.4.1 Requires-Python >=3.6.0, <3.10; 0.4.2 Requires-Python >=3.6.0, <3.10; 0.5.0 Requires-Python >=3.6.0, <3.10; 0.6.0 Requires-Python >=3.6.0, <3.10; 0.6.1 Requires-Python >=3.6.0, <3.10; 0.6.2 Requires-Python >=3.6.0, <3.10; 0.7.0 Requires-Python >=3.7.0, <3.11; 0.7.1 Requires-Python >=3.7.0, <3.11; 0.8.0 Requires-Python >=3.7.0, <3.11; 0.9.0 Requires-Python >=3.7.0, <3.11\u001b[0m\u001b[31m\n",
            "\u001b[0m\u001b[31mERROR: Could not find a version that satisfies the requirement TTS (from versions: none)\u001b[0m\u001b[31m\n",
            "\u001b[0m\u001b[31mERROR: No matching distribution found for TTS\u001b[0m\u001b[31m\n",
            "\u001b[0m"
          ]
        }
      ]
    },
    {
      "cell_type": "markdown",
      "source": [
        "# Load and Use a Pretrained TTS Model"
      ],
      "metadata": {
        "id": "GTFMuBx87W-Y"
      }
    },
    {
      "cell_type": "code",
      "source": [
        "from TTS.api import TTS\n",
        "# Load multilingual or English model\n",
        "tts = TTS(model_name=\"tts_models/en/ljspeech/tacotron2-DDC\", progress_bar=False, gpu=False)\n",
        "# Synthesize speech and save\n",
        "tts.tts_to_file(text=\"Hello! This is an offline voice using Coqui TTS.\", file_path=\"output.wav\")\n"
      ],
      "metadata": {
        "id": "VZICI51M7MpF"
      },
      "execution_count": null,
      "outputs": []
    },
    {
      "cell_type": "markdown",
      "source": [
        "# ElevenLabs TTS (Cloud-Based)"
      ],
      "metadata": {
        "id": "W25z50di97bk"
      }
    },
    {
      "cell_type": "code",
      "source": [
        "!pip install elevenlabs"
      ],
      "metadata": {
        "colab": {
          "base_uri": "https://localhost:8080/"
        },
        "id": "aqmLZ5Ch92_i",
        "outputId": "d4cc71a6-b29e-4a24-ac66-2237ffaaf83f"
      },
      "execution_count": 8,
      "outputs": [
        {
          "output_type": "stream",
          "name": "stdout",
          "text": [
            "Requirement already satisfied: elevenlabs in /usr/local/lib/python3.12/dist-packages (2.15.0)\n",
            "Requirement already satisfied: httpx>=0.21.2 in /usr/local/lib/python3.12/dist-packages (from elevenlabs) (0.28.1)\n",
            "Requirement already satisfied: pydantic>=1.9.2 in /usr/local/lib/python3.12/dist-packages (from elevenlabs) (2.11.7)\n",
            "Requirement already satisfied: pydantic-core>=2.18.2 in /usr/local/lib/python3.12/dist-packages (from elevenlabs) (2.33.2)\n",
            "Requirement already satisfied: requests>=2.20 in /usr/local/lib/python3.12/dist-packages (from elevenlabs) (2.32.4)\n",
            "Requirement already satisfied: typing_extensions>=4.0.0 in /usr/local/lib/python3.12/dist-packages (from elevenlabs) (4.15.0)\n",
            "Requirement already satisfied: websockets>=11.0 in /usr/local/lib/python3.12/dist-packages (from elevenlabs) (15.0.1)\n",
            "Requirement already satisfied: anyio in /usr/local/lib/python3.12/dist-packages (from httpx>=0.21.2->elevenlabs) (4.10.0)\n",
            "Requirement already satisfied: certifi in /usr/local/lib/python3.12/dist-packages (from httpx>=0.21.2->elevenlabs) (2025.8.3)\n",
            "Requirement already satisfied: httpcore==1.* in /usr/local/lib/python3.12/dist-packages (from httpx>=0.21.2->elevenlabs) (1.0.9)\n",
            "Requirement already satisfied: idna in /usr/local/lib/python3.12/dist-packages (from httpx>=0.21.2->elevenlabs) (3.10)\n",
            "Requirement already satisfied: h11>=0.16 in /usr/local/lib/python3.12/dist-packages (from httpcore==1.*->httpx>=0.21.2->elevenlabs) (0.16.0)\n",
            "Requirement already satisfied: annotated-types>=0.6.0 in /usr/local/lib/python3.12/dist-packages (from pydantic>=1.9.2->elevenlabs) (0.7.0)\n",
            "Requirement already satisfied: typing-inspection>=0.4.0 in /usr/local/lib/python3.12/dist-packages (from pydantic>=1.9.2->elevenlabs) (0.4.1)\n",
            "Requirement already satisfied: charset_normalizer<4,>=2 in /usr/local/lib/python3.12/dist-packages (from requests>=2.20->elevenlabs) (3.4.3)\n",
            "Requirement already satisfied: urllib3<3,>=1.21.1 in /usr/local/lib/python3.12/dist-packages (from requests>=2.20->elevenlabs) (2.5.0)\n",
            "Requirement already satisfied: sniffio>=1.1 in /usr/local/lib/python3.12/dist-packages (from anyio->httpx>=0.21.2->elevenlabs) (1.3.1)\n"
          ]
        }
      ]
    },
    {
      "cell_type": "code",
      "source": [
        "from elevenlabs.client import ElevenLabs\n",
        "from elevenlabs import save\n",
        "from google.colab import userdata  # Import Colab Secrets module\n",
        "\n",
        "# Initialize client with API key from Colab Secrets\n",
        "try:\n",
        "    # Retrieve API key from Colab Secrets\n",
        "    api_key = userdata.get('ELEVENLABS_API_KEY')\n",
        "\n",
        "    client = ElevenLabs(api_key=api_key)\n",
        "\n",
        "except Exception as e:\n",
        "    print(f\"Error retrieving API key: {e}\")\n",
        "    print(\"Please make sure you've set the ELEVENLABS_API_KEY secret in Colab\")\n",
        "    # Optionally, you could exit or set a flag to prevent further execution\n",
        "    client = None\n",
        "\n",
        "def text_to_speech_with_save(text, voice_id=\"JBFqnCBsd6RMkjVDRZzb\",\n",
        "                            output_file=\"output.mp3\", model_id=\"eleven_multilingual_v2\"):\n",
        "    \"\"\"\n",
        "    Convert text to speech and save to file\n",
        "\n",
        "    Args:\n",
        "        text (str): Text to convert to speech\n",
        "        voice_id (str): Voice ID to use (default: \"JBFqnCBsd6RMkjVDRZzb\")\n",
        "        output_file (str): Output filename\n",
        "        model_id (str): Model to use (default: \"eleven_multilingual_v2\")\n",
        "    \"\"\"\n",
        "    # Check if client was initialized properly\n",
        "    if client is None:\n",
        "        print(\"Client not initialized. Check your API key setup.\")\n",
        "        return None\n",
        "\n",
        "    try:\n",
        "        # Generate audio\n",
        "        audio = client.text_to_speech.convert(\n",
        "            text=text,\n",
        "            voice_id=voice_id,\n",
        "            model_id=model_id,\n",
        "            output_format=\"mp3_44100_128\",\n",
        "        )\n",
        "\n",
        "        # Save to file\n",
        "        save(audio, output_file)\n",
        "        print(f\"Audio saved to {output_file}\")\n",
        "\n",
        "        return audio\n",
        "\n",
        "    except Exception as e:\n",
        "        print(f\"Error: {e}\")\n",
        "        return None\n",
        "\n",
        "# Example usage (will only work if API key is properly set up)\n",
        "if client is not None:\n",
        "    text = \"Welcome to the world of AI-powered text to speech. ElevenLabs provides high quality voice synthesis.\"\n",
        "    text_to_speech_with_save(\n",
        "        text=text,\n",
        "        output_file=\"speech_output.mp3\",\n",
        "        model_id=\"eleven_multilingual_v2\"\n",
        "    )\n",
        "else:\n",
        "    print(\"Skipping example execution due to missing API key\")"
      ],
      "metadata": {
        "colab": {
          "base_uri": "https://localhost:8080/"
        },
        "id": "p-chhtCI-CrN",
        "outputId": "a6a1d428-3cf0-4a62-bbac-dbd53083eff2"
      },
      "execution_count": 17,
      "outputs": [
        {
          "output_type": "stream",
          "name": "stdout",
          "text": [
            "Audio saved to speech_output.mp3\n"
          ]
        }
      ]
    }
  ]
}