{
  "nbformat": 4,
  "nbformat_minor": 0,
  "metadata": {
    "colab": {
      "provenance": [],
      "authorship_tag": "ABX9TyMaYG4JBhJQmsjmI0w5FnOC",
      "include_colab_link": true
    },
    "kernelspec": {
      "name": "python3",
      "display_name": "Python 3"
    },
    "language_info": {
      "name": "python"
    }
  },
  "cells": [
    {
      "cell_type": "markdown",
      "metadata": {
        "id": "view-in-github",
        "colab_type": "text"
      },
      "source": [
        "<a href=\"https://colab.research.google.com/github/Mohammadhsiavash/DeepL-Training/blob/main/NLP/Resume_(PDF)Parser.ipynb\" target=\"_parent\"><img src=\"https://colab.research.google.com/assets/colab-badge.svg\" alt=\"Open In Colab\"/></a>"
      ]
    },
    {
      "cell_type": "markdown",
      "source": [
        "Build an intelligent parser that reads a resume and extracts structured details like\n",
        "contact info, skills, and job history using text extraction and paern recognition."
      ],
      "metadata": {
        "id": "bn3tjrLy5p5k"
      }
    },
    {
      "cell_type": "code",
      "source": [
        "!pip install spacy pandas pdfplumber\n",
        "!python -m spacy download en_core_web_sm"
      ],
      "metadata": {
        "colab": {
          "base_uri": "https://localhost:8080/"
        },
        "id": "91hgotHl5wiy",
        "outputId": "c4eb62df-5578-42d4-fb12-7637388807cb"
      },
      "execution_count": 1,
      "outputs": [
        {
          "output_type": "stream",
          "name": "stdout",
          "text": [
            "Requirement already satisfied: spacy in /usr/local/lib/python3.11/dist-packages (3.8.7)\n",
            "Requirement already satisfied: pandas in /usr/local/lib/python3.11/dist-packages (2.2.2)\n",
            "Collecting pdfplumber\n",
            "  Downloading pdfplumber-0.11.7-py3-none-any.whl.metadata (42 kB)\n",
            "\u001b[?25l     \u001b[90m━━━━━━━━━━━━━━━━━━━━━━━━━━━━━━━━━━━━━━━━\u001b[0m \u001b[32m0.0/42.8 kB\u001b[0m \u001b[31m?\u001b[0m eta \u001b[36m-:--:--\u001b[0m\r\u001b[2K     \u001b[90m━━━━━━━━━━━━━━━━━━━━━━━━━━━━━━━━━━━━━━━━\u001b[0m \u001b[32m42.8/42.8 kB\u001b[0m \u001b[31m1.5 MB/s\u001b[0m eta \u001b[36m0:00:00\u001b[0m\n",
            "\u001b[?25hRequirement already satisfied: spacy-legacy<3.1.0,>=3.0.11 in /usr/local/lib/python3.11/dist-packages (from spacy) (3.0.12)\n",
            "Requirement already satisfied: spacy-loggers<2.0.0,>=1.0.0 in /usr/local/lib/python3.11/dist-packages (from spacy) (1.0.5)\n",
            "Requirement already satisfied: murmurhash<1.1.0,>=0.28.0 in /usr/local/lib/python3.11/dist-packages (from spacy) (1.0.13)\n",
            "Requirement already satisfied: cymem<2.1.0,>=2.0.2 in /usr/local/lib/python3.11/dist-packages (from spacy) (2.0.11)\n",
            "Requirement already satisfied: preshed<3.1.0,>=3.0.2 in /usr/local/lib/python3.11/dist-packages (from spacy) (3.0.10)\n",
            "Requirement already satisfied: thinc<8.4.0,>=8.3.4 in /usr/local/lib/python3.11/dist-packages (from spacy) (8.3.6)\n",
            "Requirement already satisfied: wasabi<1.2.0,>=0.9.1 in /usr/local/lib/python3.11/dist-packages (from spacy) (1.1.3)\n",
            "Requirement already satisfied: srsly<3.0.0,>=2.4.3 in /usr/local/lib/python3.11/dist-packages (from spacy) (2.5.1)\n",
            "Requirement already satisfied: catalogue<2.1.0,>=2.0.6 in /usr/local/lib/python3.11/dist-packages (from spacy) (2.0.10)\n",
            "Requirement already satisfied: weasel<0.5.0,>=0.1.0 in /usr/local/lib/python3.11/dist-packages (from spacy) (0.4.1)\n",
            "Requirement already satisfied: typer<1.0.0,>=0.3.0 in /usr/local/lib/python3.11/dist-packages (from spacy) (0.16.0)\n",
            "Requirement already satisfied: tqdm<5.0.0,>=4.38.0 in /usr/local/lib/python3.11/dist-packages (from spacy) (4.67.1)\n",
            "Requirement already satisfied: numpy>=1.19.0 in /usr/local/lib/python3.11/dist-packages (from spacy) (2.0.2)\n",
            "Requirement already satisfied: requests<3.0.0,>=2.13.0 in /usr/local/lib/python3.11/dist-packages (from spacy) (2.32.3)\n",
            "Requirement already satisfied: pydantic!=1.8,!=1.8.1,<3.0.0,>=1.7.4 in /usr/local/lib/python3.11/dist-packages (from spacy) (2.11.7)\n",
            "Requirement already satisfied: jinja2 in /usr/local/lib/python3.11/dist-packages (from spacy) (3.1.6)\n",
            "Requirement already satisfied: setuptools in /usr/local/lib/python3.11/dist-packages (from spacy) (75.2.0)\n",
            "Requirement already satisfied: packaging>=20.0 in /usr/local/lib/python3.11/dist-packages (from spacy) (25.0)\n",
            "Requirement already satisfied: langcodes<4.0.0,>=3.2.0 in /usr/local/lib/python3.11/dist-packages (from spacy) (3.5.0)\n",
            "Requirement already satisfied: python-dateutil>=2.8.2 in /usr/local/lib/python3.11/dist-packages (from pandas) (2.9.0.post0)\n",
            "Requirement already satisfied: pytz>=2020.1 in /usr/local/lib/python3.11/dist-packages (from pandas) (2025.2)\n",
            "Requirement already satisfied: tzdata>=2022.7 in /usr/local/lib/python3.11/dist-packages (from pandas) (2025.2)\n",
            "Collecting pdfminer.six==20250506 (from pdfplumber)\n",
            "  Downloading pdfminer_six-20250506-py3-none-any.whl.metadata (4.2 kB)\n",
            "Requirement already satisfied: Pillow>=9.1 in /usr/local/lib/python3.11/dist-packages (from pdfplumber) (11.3.0)\n",
            "Collecting pypdfium2>=4.18.0 (from pdfplumber)\n",
            "  Downloading pypdfium2-4.30.0-py3-none-manylinux_2_17_x86_64.manylinux2014_x86_64.whl.metadata (48 kB)\n",
            "\u001b[2K     \u001b[90m━━━━━━━━━━━━━━━━━━━━━━━━━━━━━━━━━━━━━━━━\u001b[0m \u001b[32m48.5/48.5 kB\u001b[0m \u001b[31m2.1 MB/s\u001b[0m eta \u001b[36m0:00:00\u001b[0m\n",
            "\u001b[?25hRequirement already satisfied: charset-normalizer>=2.0.0 in /usr/local/lib/python3.11/dist-packages (from pdfminer.six==20250506->pdfplumber) (3.4.2)\n",
            "Requirement already satisfied: cryptography>=36.0.0 in /usr/local/lib/python3.11/dist-packages (from pdfminer.six==20250506->pdfplumber) (43.0.3)\n",
            "Requirement already satisfied: language-data>=1.2 in /usr/local/lib/python3.11/dist-packages (from langcodes<4.0.0,>=3.2.0->spacy) (1.3.0)\n",
            "Requirement already satisfied: annotated-types>=0.6.0 in /usr/local/lib/python3.11/dist-packages (from pydantic!=1.8,!=1.8.1,<3.0.0,>=1.7.4->spacy) (0.7.0)\n",
            "Requirement already satisfied: pydantic-core==2.33.2 in /usr/local/lib/python3.11/dist-packages (from pydantic!=1.8,!=1.8.1,<3.0.0,>=1.7.4->spacy) (2.33.2)\n",
            "Requirement already satisfied: typing-extensions>=4.12.2 in /usr/local/lib/python3.11/dist-packages (from pydantic!=1.8,!=1.8.1,<3.0.0,>=1.7.4->spacy) (4.14.1)\n",
            "Requirement already satisfied: typing-inspection>=0.4.0 in /usr/local/lib/python3.11/dist-packages (from pydantic!=1.8,!=1.8.1,<3.0.0,>=1.7.4->spacy) (0.4.1)\n",
            "Requirement already satisfied: six>=1.5 in /usr/local/lib/python3.11/dist-packages (from python-dateutil>=2.8.2->pandas) (1.17.0)\n",
            "Requirement already satisfied: idna<4,>=2.5 in /usr/local/lib/python3.11/dist-packages (from requests<3.0.0,>=2.13.0->spacy) (3.10)\n",
            "Requirement already satisfied: urllib3<3,>=1.21.1 in /usr/local/lib/python3.11/dist-packages (from requests<3.0.0,>=2.13.0->spacy) (2.5.0)\n",
            "Requirement already satisfied: certifi>=2017.4.17 in /usr/local/lib/python3.11/dist-packages (from requests<3.0.0,>=2.13.0->spacy) (2025.8.3)\n",
            "Requirement already satisfied: blis<1.4.0,>=1.3.0 in /usr/local/lib/python3.11/dist-packages (from thinc<8.4.0,>=8.3.4->spacy) (1.3.0)\n",
            "Requirement already satisfied: confection<1.0.0,>=0.0.1 in /usr/local/lib/python3.11/dist-packages (from thinc<8.4.0,>=8.3.4->spacy) (0.1.5)\n",
            "Requirement already satisfied: click>=8.0.0 in /usr/local/lib/python3.11/dist-packages (from typer<1.0.0,>=0.3.0->spacy) (8.2.1)\n",
            "Requirement already satisfied: shellingham>=1.3.0 in /usr/local/lib/python3.11/dist-packages (from typer<1.0.0,>=0.3.0->spacy) (1.5.4)\n",
            "Requirement already satisfied: rich>=10.11.0 in /usr/local/lib/python3.11/dist-packages (from typer<1.0.0,>=0.3.0->spacy) (13.9.4)\n",
            "Requirement already satisfied: cloudpathlib<1.0.0,>=0.7.0 in /usr/local/lib/python3.11/dist-packages (from weasel<0.5.0,>=0.1.0->spacy) (0.21.1)\n",
            "Requirement already satisfied: smart-open<8.0.0,>=5.2.1 in /usr/local/lib/python3.11/dist-packages (from weasel<0.5.0,>=0.1.0->spacy) (7.3.0.post1)\n",
            "Requirement already satisfied: MarkupSafe>=2.0 in /usr/local/lib/python3.11/dist-packages (from jinja2->spacy) (3.0.2)\n",
            "Requirement already satisfied: cffi>=1.12 in /usr/local/lib/python3.11/dist-packages (from cryptography>=36.0.0->pdfminer.six==20250506->pdfplumber) (1.17.1)\n",
            "Requirement already satisfied: marisa-trie>=1.1.0 in /usr/local/lib/python3.11/dist-packages (from language-data>=1.2->langcodes<4.0.0,>=3.2.0->spacy) (1.2.1)\n",
            "Requirement already satisfied: markdown-it-py>=2.2.0 in /usr/local/lib/python3.11/dist-packages (from rich>=10.11.0->typer<1.0.0,>=0.3.0->spacy) (3.0.0)\n",
            "Requirement already satisfied: pygments<3.0.0,>=2.13.0 in /usr/local/lib/python3.11/dist-packages (from rich>=10.11.0->typer<1.0.0,>=0.3.0->spacy) (2.19.2)\n",
            "Requirement already satisfied: wrapt in /usr/local/lib/python3.11/dist-packages (from smart-open<8.0.0,>=5.2.1->weasel<0.5.0,>=0.1.0->spacy) (1.17.2)\n",
            "Requirement already satisfied: pycparser in /usr/local/lib/python3.11/dist-packages (from cffi>=1.12->cryptography>=36.0.0->pdfminer.six==20250506->pdfplumber) (2.22)\n",
            "Requirement already satisfied: mdurl~=0.1 in /usr/local/lib/python3.11/dist-packages (from markdown-it-py>=2.2.0->rich>=10.11.0->typer<1.0.0,>=0.3.0->spacy) (0.1.2)\n",
            "Downloading pdfplumber-0.11.7-py3-none-any.whl (60 kB)\n",
            "\u001b[2K   \u001b[90m━━━━━━━━━━━━━━━━━━━━━━━━━━━━━━━━━━━━━━━━\u001b[0m \u001b[32m60.0/60.0 kB\u001b[0m \u001b[31m4.0 MB/s\u001b[0m eta \u001b[36m0:00:00\u001b[0m\n",
            "\u001b[?25hDownloading pdfminer_six-20250506-py3-none-any.whl (5.6 MB)\n",
            "\u001b[2K   \u001b[90m━━━━━━━━━━━━━━━━━━━━━━━━━━━━━━━━━━━━━━━━\u001b[0m \u001b[32m5.6/5.6 MB\u001b[0m \u001b[31m52.7 MB/s\u001b[0m eta \u001b[36m0:00:00\u001b[0m\n",
            "\u001b[?25hDownloading pypdfium2-4.30.0-py3-none-manylinux_2_17_x86_64.manylinux2014_x86_64.whl (2.8 MB)\n",
            "\u001b[2K   \u001b[90m━━━━━━━━━━━━━━━━━━━━━━━━━━━━━━━━━━━━━━━━\u001b[0m \u001b[32m2.8/2.8 MB\u001b[0m \u001b[31m70.9 MB/s\u001b[0m eta \u001b[36m0:00:00\u001b[0m\n",
            "\u001b[?25hInstalling collected packages: pypdfium2, pdfminer.six, pdfplumber\n",
            "Successfully installed pdfminer.six-20250506 pdfplumber-0.11.7 pypdfium2-4.30.0\n",
            "Collecting en-core-web-sm==3.8.0\n",
            "  Downloading https://github.com/explosion/spacy-models/releases/download/en_core_web_sm-3.8.0/en_core_web_sm-3.8.0-py3-none-any.whl (12.8 MB)\n",
            "\u001b[2K     \u001b[90m━━━━━━━━━━━━━━━━━━━━━━━━━━━━━━━━━━━━━━━━\u001b[0m \u001b[32m12.8/12.8 MB\u001b[0m \u001b[31m88.3 MB/s\u001b[0m eta \u001b[36m0:00:00\u001b[0m\n",
            "\u001b[?25h\u001b[38;5;2m✔ Download and installation successful\u001b[0m\n",
            "You can now load the package via spacy.load('en_core_web_sm')\n",
            "\u001b[38;5;3m⚠ Restart to reload dependencies\u001b[0m\n",
            "If you are in a Jupyter or Colab notebook, you may need to restart Python in\n",
            "order to load all the package's dependencies. You can do this by selecting the\n",
            "'Restart kernel' or 'Restart runtime' option.\n"
          ]
        }
      ]
    },
    {
      "cell_type": "code",
      "source": [
        "import pdfplumber\n",
        "def extract_text_from_pdf(pdf_path):\n",
        "  with pdfplumber.open(pdf_path) as pdf:\n",
        "    text = ''\n",
        "    for page in pdf.pages:\n",
        "      text += page.extract_text() + '\\n'\n",
        "  return text.strip()\n",
        "# Example usage\n",
        "resume_text = extract_text_from_pdf(\"resume-sample.pdf\")\n",
        "print(resume_text[:500]) # Preview"
      ],
      "metadata": {
        "colab": {
          "base_uri": "https://localhost:8080/"
        },
        "id": "kF0qLaEF6Mnn",
        "outputId": "54bdfeee-a395-4df1-e30a-b56828d664f1"
      },
      "execution_count": 1,
      "outputs": [
        {
          "output_type": "stream",
          "name": "stdout",
          "text": [
            "RESUME SAMPLES\n",
            "Preparing an effective resume is a difficult and time-consuming task. This handout\n",
            "contains resume examples that will help you get started. Different formats and styles\n",
            "are used to illustrate the various suggestions and tips contained in the handout,\n",
            "\"Preparing Your Resume,\" also available through the Bellevue University Career Services\n",
            "Center.\n",
            "Remember, these are intended to serve only as examples. You should modify or change\n",
            "as appropriate to customize your resume according to y\n"
          ]
        }
      ]
    },
    {
      "cell_type": "markdown",
      "source": [
        "Extract Name, Email, Phone Using Regex + SpaCy"
      ],
      "metadata": {
        "id": "SlxMzJw068UB"
      }
    },
    {
      "cell_type": "code",
      "source": [
        "import re\n",
        "import spacy\n",
        "\n",
        "\n",
        "nlp = spacy.load(\"en_core_web_sm\")\n",
        "def extract_contact_info(text):\n",
        "  name = None\n",
        "  email = re.findall(r\"[A-Za-z0-9._%+-]+@[A-Za-z0-9.-]+\\.[A-Za-z]{2,}\", text)\n",
        "  phone = re.findall(r\"\\+?\\d[\\d\\s\\-]{8,15}\", text)\n",
        "  doc = nlp(text)\n",
        "  for ent in doc.ents:\n",
        "    if ent.label_ == \"PERSON\":\n",
        "      name = ent.text\n",
        "      break\n",
        "  return {\n",
        "  \"name\": name,\n",
        "  \"email\": email[0] if email else None,\n",
        "  \"phone\": phone[0] if phone else None\n",
        "  }"
      ],
      "metadata": {
        "id": "5egvQd0K6z3k"
      },
      "execution_count": 2,
      "outputs": []
    },
    {
      "cell_type": "markdown",
      "source": [
        "### Extract Skills\n",
        "You can use a predefined skill set and match them against the resume text."
      ],
      "metadata": {
        "id": "TIkrS_ks8AF0"
      }
    },
    {
      "cell_type": "code",
      "source": [
        "def extract_skills(text, skill_set=None):\n",
        "  if skill_set is None:\n",
        "    skill_set = {\"python\", \"java\", \"sql\", \"excel\", \"aws\", \"tensorflow\", \"pytorch\"}\n",
        "  found_skills = []\n",
        "  text_lower = text.lower()\n",
        "  for skill in skill_set:\n",
        "    if skill in text_lower:\n",
        "      found_skills.append(skill)\n",
        "  return list(set(found_skills))"
      ],
      "metadata": {
        "id": "_EnuqlV77549"
      },
      "execution_count": 3,
      "outputs": []
    },
    {
      "cell_type": "markdown",
      "source": [
        "Extract Education and Experience Sections"
      ],
      "metadata": {
        "id": "3Q2ZQQR38rzM"
      }
    },
    {
      "cell_type": "code",
      "source": [
        "def extract_section(text, keyword):\n",
        "  lines = text.lower().split('\\n')\n",
        "  section = []\n",
        "  capture = False\n",
        "  for line in lines:\n",
        "    if keyword in line:\n",
        "      capture = True\n",
        "    elif capture and line.strip() == '':\n",
        "      break\n",
        "    elif capture:\n",
        "      section.append(line.strip())\n",
        "  return ' '.join(section)"
      ],
      "metadata": {
        "id": "iFTP-_AZ8fYd"
      },
      "execution_count": 4,
      "outputs": []
    },
    {
      "cell_type": "markdown",
      "source": [
        "Combine All Parsers"
      ],
      "metadata": {
        "id": "G0pmoHCL8-YG"
      }
    },
    {
      "cell_type": "code",
      "source": [
        "def parse_resume(text):\n",
        "  contact_info = extract_contact_info(text)\n",
        "  skills = extract_skills(text)\n",
        "  education = extract_section(text, \"education\")\n",
        "  experience = extract_section(text, \"experience\")\n",
        "  return {\n",
        "  **contact_info,\n",
        "  \"skills\": skills,\n",
        "  \"education\": education,\n",
        "  \"experience\": experience\n",
        "  }\n",
        "# Parse the resume\n",
        "parsed_data = parse_resume(resume_text)\n",
        "for key, value in parsed_data.items():\n",
        "  print(f\"{key.upper()}: {value}\\n\")"
      ],
      "metadata": {
        "colab": {
          "base_uri": "https://localhost:8080/"
        },
        "id": "pikacZ9Y88Ad",
        "outputId": "ad0d5297-c2ce-4de8-e132-cc733f5ad6fb"
      },
      "execution_count": 5,
      "outputs": [
        {
          "output_type": "stream",
          "name": "stdout",
          "text": [
            "NAME: Templates\n",
            "\n",
            "EMAIL: careerservices@bellevue.edu\n",
            "\n",
            "PHONE: 756-7920 \n",
            "\n",
            "SKILLS: ['sql', 'java', 'excel']\n",
            "\n",
            "EDUCATION: and the job you’re applying. for additional guidance or assistance, contact the career services center at (402) 557-7423, (800) 756-7920 ext. 7423 or careerservices@bellevue.edu. a word of caution: please don’t be tempted to use one of the resume wizards or templates that are available online or included in many word processing programs. they can be difficult to work with, don’t allow you to present yourself in the best possible light—and employers can identify them easily. instead, create your resume as a simple document in ms word, like the examples included in this handout. revision: june 2015 functional (experienced) im a. sample i 1234 north 55 street bellevue, nebraska 68005 (402) 292-2345 imasample1@xxx.com summary of qualifications exceptionally well organized and resourceful professional with more than six years experience and a solid academic background in accounting and financial management; excellent analytical and problem solving skills; able to handle multiple projects while producing high quality work in a fast-paced, deadline-oriented environment. bachelor of science, bellevue university, bellevue, ne (in progress) major: accounting minor: computer information systems expected graduation date: january, 20xx gpa to date: 3.95/4.00 professional accomplishments accounting and financial management  developed and maintained accounting records for up to fifty bank accounts.  formulated monthly and year-end financial statements and generated various payroll records, including federal and state payroll reports, annual tax reports, w-2 and 1099 forms, etc.  tested accuracy of account balances and prepared supporting documentation for submission during a comprehensive three-year audit of financial operations.  formulated intricate pro-forma budgets.  calculated and implemented depreciation/amortization schedules. information systems analysis and problem solving  converted manual to computerized accounting systems for two organizations.  analyzed and successfully reprogrammed software to meet customer requirements.  researched and corrected problems to assure effective operation of newly computerized systems. work history student intern, financial accounting development program, mutual of omaha, omaha, ne (summer 20xx) accounting coordinator, nebraska special olympics, omaha, ne (20xx-20xx) bookkeeper, smc, inc., omaha, ne (20xx – 20xx) bookkeeper, first united methodist church, altus, ok (20xx – 20xx) professional affiliation member, ima, bellevue university student chapter computer skills  proficient in ms office (word, excel, powerpoint, outlook), quickbooks  basic knowledge of ms access, sql, visual basic, c++ chronological (internship) im a. sample ii 4321 south 55 street bellevue, nebraska 68005 (402) 291-5432 imasample2@xxx.com objective: internship or part-time position in marketing, public relations or related field utilizing strong academic background and excellent communication skills bellevue university, bellevue, ne  expected graduation date: june, 20xx  gpa to date: 3.56/4.00 relevant coursework principles of marketing business communication internet marketing consumer behavior public relations business policy & stretegy work history: aacademic tutor (20xx to present) bellevue university, bellevue, ne  assist college students in overcoming deficiencies and successfully mastering academic coursework. senior accounts receivable clerk (20xx-20xx) lincoln financial group, omaha, ne  researched story ideas, wrote articles and participated in the publication of a weekly in-house newsletter.  assisted customers and staff members in resolving problems and balancing accounts; trained new staff members.  managed and recorded daily accounts receivable deposits of up to $450,000.  conducted extensive research to recover lost checks and organized system to stop payment and replace all checks. community service: advertising coordinator, the vue (20xx to present) bellevue university student newspaper volunteer, publicity committee (20xx, 20xx) brushup nebraska paint-a-thon added value: language skills: bilingual (english/spanish) computer skills: ms office (word, excel, powerpoint), photoshop references: available upon request chronological im a. sample iii 3456 westview road (402) 291-5678 bellevue, nebraska 68005 imasample3@xxx.com summary of qualifications experienced business professional with a solid academic background and a demonstrated commitment to providing high quality customer service; described as a \"take charge\" person with exceptional communication and human relations skills; proficient in the use of ms office (word, excel, powerpoint) with basic knowledge of peoplesoft. bellevue university, bellevue, ne (june 20xx) bachelor of science in management of human resources  gpa in major: 3.84/4.00 graduated with distinction professional experience west telemarketing, omaha, ne (20xx to present) customer service supervisor (20xx to present)  supervise operations and staff in a 20-person inbound telemarketing unit, including hiring, training and evaluating employees, preparing and administering annual budgets, developing business plans, etc.  assess level of customer satisfaction and resolve sensitive and complex issues raised by customers; provide additional training and take other action as required to maintain a high level of customer satisfaction. customer service representative (20xx-20xx)  handled incoming calls from customers and potential customers, provided information and received orders using crt to input data.  interviewed customers and recommended other available products to meet their needs; received several incentive awards for sales efforts.  provided orientation and training to new staff members. professional affiliations and activities member, society for human resources management (shrm) (20xx to 20xx) bellevue university student chapter  chair, program development committee (20xx) president, american business women's association, gold star chapter (20xx) references furnished upon request functional im a. sample iv 987 northridge drive omaha, nebraska 68123 (402) 543-1234 imasample4@xxx.com objective: position in market research or financial analysis where strong technical skills, mathematical/statistical background and problem solving abilities can be applied towards the successful achievement of business goals and objectives professional profile  exceptionally well organized, resourceful and highly motivated with the ability to handle multiple projects and produce timely, high quality work.  strong analytical and human relations skills; especially effective in helping customers and associates resolve issues and concerns. professional skills and experience analysis and problem solving  researched and developed a survey instrument, subsequently used to obtain information from customers regarding their satisfaction with products purchased.  compiled and analyzed statistical data to identify potential target markets for future sales and marketing efforts.  completed independent research project on the use of mathematical/statistical models as tools for solving various business problems.  conducted quality control inspections, analyzed results and developed action plans to address areas of concern. communications and customer relations  received customer service satisfaction award for high quality of services provided to both vendors and customers.  handled customer inquiries and sales; effectively represented company to vendors and prospective customers, resulting in a 15% increase in sales in just six months.  provided orientation, training and guidance to new employees. bachelor of science, bellevue university, bellevue, ne (june, 20xx) major: computer information systems in business minor: mathematics graduated summa cum laude gpa: 3.98/4.00 technical skills  java, perl, asp, php scripting, relational databases, sql  inferential statistics, data analysis, calculus & mathematical analysis, spss work experience intern-market research, mutual of omaha, omaha, ne (fall semester, 20xx) sales associate & machinist assistant, precision tool, omaha, ne (20xx to present) functional (military) im a. sample v 987 northridge drive omaha, nebraska 68123 (402) 543-1234 imasample5@xxx.com professional profile self-motivated, resourceful and dynamic leader with extensive experience and a strong communication skills and a demonstrated ability to create and manage cohesive, productive work teams; proficient in the use of microsoft word, excel and other software applications. professional skills and accomplishments management and administration  directed, guided and motivated a workforce of up to 300 individuals with diverse technical backgrounds and experiences.  successfully improved work performance of a “marginal” work team, as evidenced by an increase to a “satisfactory” performance rating after only six months as team leader.  provided day-to-day supervision for an administrative staff of up to sixty employees.  planned, designed and coordinated the programming of computer-based products; designed and coordinated computer system testing in facilities throughout the world.  planned, developed and administered annual budgets ranging from $150,000 to $300,000. training and development  taught college level courses in leadership, management, team building, effective writing and speech communications.  certified as master instructor; designed and developed curriculum; selected, trained and evaluated other instructors.  advised and educated personnel on ways to enhance and strengthen their promotability and job performance; identified and documented career development plans for employees.  provided on-the-job training and guidance for new employees. communication and counseling  conducted formal investigations and utilized a variety of counseling techniques and strategies to successfully resolve highly complex and sensitive issues involving domestic abuse, racial discrimination, minor law infractions and academic failures.  worked one-on-one with customers and employees to enhance self esteem and resolve communication problems.  marketed and promoted company programs to employees and the general public through a variety of activities including presentations to audiences of over 1000 people.  established and maintained effective working relationships with co-workers, superiors and subordinates to facilitate the achievement of business objectives. continued . . . . . . . . . . . im a. sample v page two bachelor of science in management (20xx) bellevue university, bellevue, nebraska gpa: 4.00/4.00 dean’s scholar graduated with professional honors associate of applied science in communications technology (20xx) community college of the air force numerous workshops, courses and seminars dealing with leadership development, management, tqm, interpersonal communications, curriculum development and related topics department of defense and air force training schools certified as total quality management facilitator qualified master air training command instructor in leadership and management work history various positions of increasing responsibility and leadership united states air force (20xx to present)  currently serving as squadron operation superintendent.  scheduled to leave the air force in september 20xx. volunteer/community service coach, youth soccer, bellevue boys club unit coordinator, u.s. savings bond drive references available upon request chronological (managerial) im a. sample vi 2345 frederick street omaha, nebraska 68123 (402) 489-3421 imasample6@xxx.com professional highlights  extensive technical and management experience in information systems technology with a solid academic background in computer information systems and business administration.  excellent communicator with strong leadership skills and the ability to build cohesive, productive teams while fostering and encouraging creativity and individual expression.  areas of expertise: operations management project management quality management mainframe & pc operations software development systems design customer relations technical support troubleshooting work experience supervisor, financial systems, omaha public power district, omaha ne (20xx to present) oversee the maintenance and enhancement of financial systems to ensure process integrity and system stability for user areas. significant accomplishments  managed the implementation of a major software upgrade, significantly increasing efficiency in the use of accounts payable and purchasing systems.  converted contract and payee information from a third party system to an internal automated system, resulting in approximately $72,000 in annual revenue for the organization.  developed a cohesive, productive work team of individuals from diverse areas of the organization, utilizing strong interpersonal and leadership skills to foster and encourage teamwork and cooperation among team members and with user areas.  utilized tqm principles to implement several internal process improvements that have resulted in hundreds of time-saving hours annually.  promoted into management position after only six months as a systems analyst. programmer/analyst, bishop clarkson hospital, omaha ne (20xx – 20xx) provided systems support and enhancements to user areas throughout the hospital. significant accomplishments  developed and implemented an automated system for processing employee timesheets, thus eliminating the need for handwritten timesheets.  researched, designed and developed a new software application now being used by managers throughout the organization for strategic planning and reporting.  recognized as information systems employee of the year for the high quality of customer service provided and the successful resolution of numerous systems problems. page one of two im a. sample vi . . . . . . . . . . . . . . . . . . . . . . . . . . . . . . . . . . . . . . . . page two of two work experience (continued) senior computer operator, bergen mercy hospital, omaha ne (20xx – 20xx)  supervised shift operations and staff, trained employees, developed work schedules and monitored work performance.  operated ibm and digital systems; identified and resolved problems to assure smooth and efficient system operations. mba with concentration in management information systems bellevue university, bellevue ne expected graduation: june 20xx bachelor of science, bellevue university, bellevue ne (20xx) major: computer information systems minor: business administration gpa: 3.45/4.00 gpa in major: 4.00/4.00 dean’s scholar certificate in computer programming electronic computer programming institute, omaha ne (20xx) technical knowledge and skills c, c++, visual basic, cobol windows 9x/200x/xp advanced microcomputer applications unix/linux management & design of database systems sql relational database management microcomputer graphics/mapping ms office (word, excel, powerpoint, outlook, access) references available upon request chronological (graduate assistantship) im a. sample vii 4321 country club road omaha, nebraska 68123 (402) 555-9876 imasample7@xxx.com objective to obtain a graduate assistantship where strong academic background and excellent bachelor of arts, bellevue university, bellevue ne (20xx) majors: psychology, sociology gpa: 4.00/4.00 graduated summa cum laude dean’s scholar national dean’s list relevant coursework fundamentals of guidance & counseling personality theory psychological assessment learning theory research methods & psychological research social psychology professional experience writing tutor and test administrator, bellevue university, bellevue, ne (20xx – 20xx)  assisted in the preparation and administration of various assessment instruments, including clep, dantes and placement tests.  provided tutorial assistance to undergraduate and graduate students in the area of writing/composition.  advised and assisted international students with writing assignments to help them strengthen their english language skills. research assistant, university of nebraska medical center, omaha, ne (summer 20xx, 20xx)  assisted child psychologist in a two-part summer research enrichment program, including observations of client behavior, data entry and preparation of research reports.  performed literature searches and prepared summary reports for a major research project involving the study of individuals with disabilities. collegiate honors and activities listed in who’s who among students in american colleges and universities member, pi gamma mu and alpha chi honor societies president, behavioral and social sciences student organization, bellevue university volunteer contributor, the vue, bellevue university student newspaper member, bellevue university student advisory council letters of reference & transcript enclosed chronological (computer/technical) im a. sample viii 5432 north 97 street omaha, nebraska 68134 (402) 493-1234 imasample8@xxx.com objective seeking position in information systems or related field utilizing solid academic background along with exceptionally strong analytical, problem solving and customer service skills. bs in computer information systems—web-based networking bellevue university, bellevue ne expected graduation date: january 20xx dean’s scholar gpa to date: 3.86/4.00 associate of applied science, metropolitan community college, omaha ne (20xx) major: management information systems gpa: 3.45/4.00 technical knowledge and skills operating systems: windows 19xx/20xx/xp/nt, unix/linux technical support: installation, configuration & troubleshooting of hardware & software languages: visual basic, c, c++, visual c++, java, html, xml, asp.net database management: relational databases. sql, pl/sql, ms access applications: ms office (word, excel, powerpoint, outlook), ms project professional experience computer support technician/intern, union pacific railroad, omaha ne (summer 20xx)  assisted in systems administration and configuration in unix and windows nt.  installed and maintained local area networks, including novell and windows systems.  staffed help desk; analyzed and resolved system problems encountered by end users.  participated in the design and development of the department’s web site.  assisted with the maintenance of e-mail and other internet applications. computer lab assistant, bellevue university, bellevue ne (20xx – 20xx)  provided advice and guidance to college students on the effective use of pcs and various software applications. collegiate activities volunteer contributor, bellevue university computer lab newsletter member, varsity baseball team, bellevue university references available upon request functional im a. sample ix 987 northridge drive omaha, nebraska 68123 (402) 543-1234 imasample9@xxx.com objective: position in human resources administration utilizing strong human relations, customer service and problem solving skills. professional skills and accomplishments analysis and problem solving  researched and developed a survey instrument, subsequently used to obtain employee information on their satisfaction with the company’s employee relations program.  compiled and analyzed statistical data to identify potential sources for use in developing annual recruiting program.  completed independent research project on the impact of “family friendly” human resources policies on employee retention.  conducted quality control inspections, analyzed results and developed action plans to address areas of concern. communications and customer relations  provided orientation and training to new employees and advised them on the effective handling of customer complaints.  greeted applicants, scheduled interviews, conducted reference checks and participated in on-campus recruiting activities and career fairs.  received customer service satisfaction award for high quality of services provided to both vendors and customers.  handled customer inquiries and sales; effectively represented company to vendors and prospective customers, resulting in a 15% increase in just six months. bachelor of science, bellevue university, bellevue, ne (in progress)  major: psychology minor: communication arts  expected graduation: august 20xx  gpa to date: 3.98/4.00 dean’s scholar associate of arts, iowa western community college, council bluffs, ia (20xx)  area of emphasis: business administration work experience senior sales associate, precision tool, omaha, ne (20xx to present) human resources intern, oriental trading, omaha, ne (spring semester 20xx) references furnished upon request chronological (human/social service) im a. sample x 3083 north south street, apt. a-1 (308) 308-3083 grand island, nebraska 68803 imasample10@xxxx.net objective seeking position in human/social service administration or related field utilizing strong academic background, experience and excellent interpersonal skills bs in human & social service administration, bellevue university, bellevue, ne (jan 20xx)  dean’s scholar gpa: 3.81/4.00 aas in human services (dec 19xx), 75-hr basic nursing assistant program (jan 20xx) central community college—hastings campus, hastings, ne work history day rehabilitation specialist, greater ne goodwill industries, grand island, ne (june 20xx – present)  manage a caseload of twenty consumers, assist them in setting and reaching individual plans  facilitate group sessions on mental illness, stress management and healthy relationships  plan and implement social activities for consumers  coordinate and conduct team meetings  process billings, manage petty cash fund, and oversee operations in supervisor’s absence assistant receptionist, tiffany square care center, grand island, ne (jan – june 20xx)  arranged and facilitated weekend activities for residents  contacted families to set up dates and times to review and discuss care plans  delivered and read mail to residents, providing companionship and social interaction  filed confidential paperwork and provided receptionist/administrative support for the center employment trainer, central ne goodwill industries, grand island, ne (aug 19xx – may 20xx)  managed a caseload of twenty consumers and provided on-the-job coaching to help them succeed  conducted group job search training sessions and assisted consumers with completion of job applications, cover letters and resumes criminal justice/shelter advocate, crisis center inc & family violence coalition, grand island, ne (july 20xx – oct 20xx)  responded to crisis calls and provided support to victims of domestic abuse  completed paperwork to document circumstances surrounding alleged abuse for judicial review social services assistant, tiffany square care center, grand island, ne (jan 20xx – sept 20xx)  conducted tours, provided orientation and general assistance for new residents  completed social histories, inventoried clothing, and met one-on-one with residents to help them understand their rights and responsibilities  assisted the center in meeting critical staffing needs during peak times by working as a certified nursing assistant, dietary aide, receptionist and van driver community service volunteer, women’s health services, grand island, ne (fall 20xx – present)  assisted professional staff and participated in one-on-one discussions with women seeking advice on health-related issues  observed group training sessions to develop the skills needed to facilitate groups in the future\n",
            "\n",
            "EXPERIENCE: and the job you’re applying. for additional guidance or assistance, contact the career services center at (402) 557-7423, (800) 756-7920 ext. 7423 or careerservices@bellevue.edu. a word of caution: please don’t be tempted to use one of the resume wizards or templates that are available online or included in many word processing programs. they can be difficult to work with, don’t allow you to present yourself in the best possible light—and employers can identify them easily. instead, create your resume as a simple document in ms word, like the examples included in this handout. revision: june 2015 im a. sample i 1234 north 55 street bellevue, nebraska 68005 (402) 292-2345 imasample1@xxx.com summary of qualifications solid academic background in accounting and financial management; excellent analytical and problem solving skills; able to handle multiple projects while producing high quality work in a fast-paced, deadline-oriented environment. education bachelor of science, bellevue university, bellevue, ne (in progress) major: accounting minor: computer information systems expected graduation date: january, 20xx gpa to date: 3.95/4.00 professional accomplishments accounting and financial management  developed and maintained accounting records for up to fifty bank accounts.  formulated monthly and year-end financial statements and generated various payroll records, including federal and state payroll reports, annual tax reports, w-2 and 1099 forms, etc.  tested accuracy of account balances and prepared supporting documentation for submission during a comprehensive three-year audit of financial operations.  formulated intricate pro-forma budgets.  calculated and implemented depreciation/amortization schedules. information systems analysis and problem solving  converted manual to computerized accounting systems for two organizations.  analyzed and successfully reprogrammed software to meet customer requirements.  researched and corrected problems to assure effective operation of newly computerized systems. work history student intern, financial accounting development program, mutual of omaha, omaha, ne (summer 20xx) accounting coordinator, nebraska special olympics, omaha, ne (20xx-20xx) bookkeeper, smc, inc., omaha, ne (20xx – 20xx) bookkeeper, first united methodist church, altus, ok (20xx – 20xx) professional affiliation member, ima, bellevue university student chapter computer skills  proficient in ms office (word, excel, powerpoint, outlook), quickbooks  basic knowledge of ms access, sql, visual basic, c++ chronological (internship) im a. sample ii 4321 south 55 street bellevue, nebraska 68005 (402) 291-5432 imasample2@xxx.com objective: internship or part-time position in marketing, public relations or related field utilizing strong academic background and excellent communication skills education: bs in business administration with marketing emphasis bellevue university, bellevue, ne  expected graduation date: june, 20xx  gpa to date: 3.56/4.00 relevant coursework principles of marketing business communication internet marketing consumer behavior public relations business policy & stretegy work history: aacademic tutor (20xx to present) bellevue university, bellevue, ne  assist college students in overcoming deficiencies and successfully mastering academic coursework. senior accounts receivable clerk (20xx-20xx) lincoln financial group, omaha, ne  researched story ideas, wrote articles and participated in the publication of a weekly in-house newsletter.  assisted customers and staff members in resolving problems and balancing accounts; trained new staff members.  managed and recorded daily accounts receivable deposits of up to $450,000.  conducted extensive research to recover lost checks and organized system to stop payment and replace all checks. community service: advertising coordinator, the vue (20xx to present) bellevue university student newspaper volunteer, publicity committee (20xx, 20xx) brushup nebraska paint-a-thon added value: language skills: bilingual (english/spanish) computer skills: ms office (word, excel, powerpoint), photoshop references: available upon request chronological im a. sample iii 3456 westview road (402) 291-5678 bellevue, nebraska 68005 imasample3@xxx.com summary of qualifications commitment to providing high quality customer service; described as a \"take charge\" person with exceptional communication and human relations skills; proficient in the use of ms office (word, excel, powerpoint) with basic knowledge of peoplesoft. education bellevue university, bellevue, ne (june 20xx) bachelor of science in management of human resources  gpa in major: 3.84/4.00 graduated with distinction west telemarketing, omaha, ne (20xx to present) customer service supervisor (20xx to present)  supervise operations and staff in a 20-person inbound telemarketing unit, including hiring, training and evaluating employees, preparing and administering annual budgets, developing business plans, etc.  assess level of customer satisfaction and resolve sensitive and complex issues raised by customers; provide additional training and take other action as required to maintain a high level of customer satisfaction. customer service representative (20xx-20xx)  handled incoming calls from customers and potential customers, provided information and received orders using crt to input data.  interviewed customers and recommended other available products to meet their needs; received several incentive awards for sales efforts.  provided orientation and training to new staff members. professional affiliations and activities member, society for human resources management (shrm) (20xx to 20xx) bellevue university student chapter  chair, program development committee (20xx) president, american business women's association, gold star chapter (20xx) references furnished upon request functional im a. sample iv 987 northridge drive omaha, nebraska 68123 (402) 543-1234 imasample4@xxx.com objective: position in market research or financial analysis where strong technical skills, mathematical/statistical background and problem solving abilities can be applied towards the successful achievement of business goals and objectives professional profile  exceptionally well organized, resourceful and highly motivated with the ability to handle multiple projects and produce timely, high quality work.  strong analytical and human relations skills; especially effective in helping customers and associates resolve issues and concerns. analysis and problem solving  researched and developed a survey instrument, subsequently used to obtain information from customers regarding their satisfaction with products purchased.  compiled and analyzed statistical data to identify potential target markets for future sales and marketing efforts.  completed independent research project on the use of mathematical/statistical models as tools for solving various business problems.  conducted quality control inspections, analyzed results and developed action plans to address areas of concern. communications and customer relations  received customer service satisfaction award for high quality of services provided to both vendors and customers.  handled customer inquiries and sales; effectively represented company to vendors and prospective customers, resulting in a 15% increase in sales in just six months.  provided orientation, training and guidance to new employees. education bachelor of science, bellevue university, bellevue, ne (june, 20xx) major: computer information systems in business minor: mathematics graduated summa cum laude gpa: 3.98/4.00 technical skills  java, perl, asp, php scripting, relational databases, sql  inferential statistics, data analysis, calculus & mathematical analysis, spss intern-market research, mutual of omaha, omaha, ne (fall semester, 20xx) sales associate & machinist assistant, precision tool, omaha, ne (20xx to present) functional (military) im a. sample v 987 northridge drive omaha, nebraska 68123 (402) 543-1234 imasample5@xxx.com professional profile educational background in management, training and employee development; exceptional communication skills and a demonstrated ability to create and manage cohesive, productive work teams; proficient in the use of microsoft word, excel and other software applications. professional skills and accomplishments management and administration  directed, guided and motivated a workforce of up to 300 individuals with diverse technical  successfully improved work performance of a “marginal” work team, as evidenced by an increase to a “satisfactory” performance rating after only six months as team leader.  provided day-to-day supervision for an administrative staff of up to sixty employees.  planned, designed and coordinated the programming of computer-based products; designed and coordinated computer system testing in facilities throughout the world.  planned, developed and administered annual budgets ranging from $150,000 to $300,000. training and development  taught college level courses in leadership, management, team building, effective writing and speech communications.  certified as master instructor; designed and developed curriculum; selected, trained and evaluated other instructors.  advised and educated personnel on ways to enhance and strengthen their promotability and job performance; identified and documented career development plans for employees.  provided on-the-job training and guidance for new employees. communication and counseling  conducted formal investigations and utilized a variety of counseling techniques and strategies to successfully resolve highly complex and sensitive issues involving domestic abuse, racial discrimination, minor law infractions and academic failures.  worked one-on-one with customers and employees to enhance self esteem and resolve communication problems.  marketed and promoted company programs to employees and the general public through a variety of activities including presentations to audiences of over 1000 people.  established and maintained effective working relationships with co-workers, superiors and subordinates to facilitate the achievement of business objectives. continued . . . . . . . . . . . im a. sample v page two education and training bachelor of science in management (20xx) bellevue university, bellevue, nebraska gpa: 4.00/4.00 dean’s scholar graduated with professional honors associate of applied science in communications technology (20xx) community college of the air force numerous workshops, courses and seminars dealing with leadership development, management, tqm, interpersonal communications, curriculum development and related topics department of defense and air force training schools certified as total quality management facilitator qualified master air training command instructor in leadership and management work history various positions of increasing responsibility and leadership united states air force (20xx to present)  currently serving as squadron operation superintendent.  scheduled to leave the air force in september 20xx. volunteer/community service coach, youth soccer, bellevue boys club unit coordinator, u.s. savings bond drive references available upon request chronological (managerial) im a. sample vi 2345 frederick street omaha, nebraska 68123 (402) 489-3421 imasample6@xxx.com professional highlights solid academic background in computer information systems and business administration.  excellent communicator with strong leadership skills and the ability to build cohesive, productive teams while fostering and encouraging creativity and individual expression.  areas of expertise: operations management project management quality management mainframe & pc operations software development systems design customer relations technical support troubleshooting supervisor, financial systems, omaha public power district, omaha ne (20xx to present) oversee the maintenance and enhancement of financial systems to ensure process integrity and system stability for user areas. significant accomplishments  managed the implementation of a major software upgrade, significantly increasing efficiency in the use of accounts payable and purchasing systems.  converted contract and payee information from a third party system to an internal automated system, resulting in approximately $72,000 in annual revenue for the organization.  developed a cohesive, productive work team of individuals from diverse areas of the organization, utilizing strong interpersonal and leadership skills to foster and encourage teamwork and cooperation among team members and with user areas.  utilized tqm principles to implement several internal process improvements that have resulted in hundreds of time-saving hours annually.  promoted into management position after only six months as a systems analyst. programmer/analyst, bishop clarkson hospital, omaha ne (20xx – 20xx) provided systems support and enhancements to user areas throughout the hospital. significant accomplishments  developed and implemented an automated system for processing employee timesheets, thus eliminating the need for handwritten timesheets.  researched, designed and developed a new software application now being used by managers throughout the organization for strategic planning and reporting.  recognized as information systems employee of the year for the high quality of customer service provided and the successful resolution of numerous systems problems. page one of two im a. sample vi . . . . . . . . . . . . . . . . . . . . . . . . . . . . . . . . . . . . . . . . page two of two senior computer operator, bergen mercy hospital, omaha ne (20xx – 20xx)  supervised shift operations and staff, trained employees, developed work schedules and monitored work performance.  operated ibm and digital systems; identified and resolved problems to assure smooth and efficient system operations. education mba with concentration in management information systems bellevue university, bellevue ne expected graduation: june 20xx bachelor of science, bellevue university, bellevue ne (20xx) major: computer information systems minor: business administration gpa: 3.45/4.00 gpa in major: 4.00/4.00 dean’s scholar certificate in computer programming electronic computer programming institute, omaha ne (20xx) technical knowledge and skills c, c++, visual basic, cobol windows 9x/200x/xp advanced microcomputer applications unix/linux management & design of database systems sql relational database management microcomputer graphics/mapping ms office (word, excel, powerpoint, outlook, access) references available upon request chronological (graduate assistantship) im a. sample vii 4321 country club road omaha, nebraska 68123 (402) 555-9876 imasample7@xxx.com objective to obtain a graduate assistantship where strong academic background and excellent communication skills can be utilized to help college students achieve their educational goals. education bachelor of arts, bellevue university, bellevue ne (20xx) majors: psychology, sociology gpa: 4.00/4.00 graduated summa cum laude dean’s scholar national dean’s list relevant coursework fundamentals of guidance & counseling personality theory psychological assessment learning theory research methods & psychological research social psychology writing tutor and test administrator, bellevue university, bellevue, ne (20xx – 20xx)  assisted in the preparation and administration of various assessment instruments, including clep, dantes and placement tests.  provided tutorial assistance to undergraduate and graduate students in the area of writing/composition.  advised and assisted international students with writing assignments to help them strengthen their english language skills. research assistant, university of nebraska medical center, omaha, ne (summer 20xx, 20xx)  assisted child psychologist in a two-part summer research enrichment program, including observations of client behavior, data entry and preparation of research reports.  performed literature searches and prepared summary reports for a major research project involving the study of individuals with disabilities. collegiate honors and activities listed in who’s who among students in american colleges and universities member, pi gamma mu and alpha chi honor societies president, behavioral and social sciences student organization, bellevue university volunteer contributor, the vue, bellevue university student newspaper member, bellevue university student advisory council letters of reference & transcript enclosed chronological (computer/technical) im a. sample viii 5432 north 97 street omaha, nebraska 68134 (402) 493-1234 imasample8@xxx.com objective seeking position in information systems or related field utilizing solid academic background along with exceptionally strong analytical, problem solving and customer service skills. education bs in computer information systems—web-based networking bellevue university, bellevue ne expected graduation date: january 20xx dean’s scholar gpa to date: 3.86/4.00 associate of applied science, metropolitan community college, omaha ne (20xx) major: management information systems gpa: 3.45/4.00 technical knowledge and skills operating systems: windows 19xx/20xx/xp/nt, unix/linux technical support: installation, configuration & troubleshooting of hardware & software languages: visual basic, c, c++, visual c++, java, html, xml, asp.net database management: relational databases. sql, pl/sql, ms access applications: ms office (word, excel, powerpoint, outlook), ms project computer support technician/intern, union pacific railroad, omaha ne (summer 20xx)  assisted in systems administration and configuration in unix and windows nt.  installed and maintained local area networks, including novell and windows systems.  staffed help desk; analyzed and resolved system problems encountered by end users.  participated in the design and development of the department’s web site.  assisted with the maintenance of e-mail and other internet applications. computer lab assistant, bellevue university, bellevue ne (20xx – 20xx)  provided advice and guidance to college students on the effective use of pcs and various software applications. collegiate activities volunteer contributor, bellevue university computer lab newsletter member, varsity baseball team, bellevue university references available upon request functional im a. sample ix 987 northridge drive omaha, nebraska 68123 (402) 543-1234 imasample9@xxx.com objective: position in human resources administration utilizing strong human relations, customer service and problem solving skills. professional skills and accomplishments analysis and problem solving  researched and developed a survey instrument, subsequently used to obtain employee information on their satisfaction with the company’s employee relations program.  compiled and analyzed statistical data to identify potential sources for use in developing annual recruiting program.  completed independent research project on the impact of “family friendly” human resources policies on employee retention.  conducted quality control inspections, analyzed results and developed action plans to address areas of concern. communications and customer relations  provided orientation and training to new employees and advised them on the effective handling of customer complaints.  greeted applicants, scheduled interviews, conducted reference checks and participated in on-campus recruiting activities and career fairs.  received customer service satisfaction award for high quality of services provided to both vendors and customers.  handled customer inquiries and sales; effectively represented company to vendors and prospective customers, resulting in a 15% increase in just six months. education bachelor of science, bellevue university, bellevue, ne (in progress)  major: psychology minor: communication arts  expected graduation: august 20xx  gpa to date: 3.98/4.00 dean’s scholar associate of arts, iowa western community college, council bluffs, ia (20xx)  area of emphasis: business administration senior sales associate, precision tool, omaha, ne (20xx to present) human resources intern, oriental trading, omaha, ne (spring semester 20xx) references furnished upon request chronological (human/social service) im a. sample x 3083 north south street, apt. a-1 (308) 308-3083 grand island, nebraska 68803 imasample10@xxxx.net objective seeking position in human/social service administration or related field utilizing strong academic education bs in human & social service administration, bellevue university, bellevue, ne (jan 20xx)  dean’s scholar gpa: 3.81/4.00 aas in human services (dec 19xx), 75-hr basic nursing assistant program (jan 20xx) central community college—hastings campus, hastings, ne work history day rehabilitation specialist, greater ne goodwill industries, grand island, ne (june 20xx – present)  manage a caseload of twenty consumers, assist them in setting and reaching individual plans  facilitate group sessions on mental illness, stress management and healthy relationships  plan and implement social activities for consumers  coordinate and conduct team meetings  process billings, manage petty cash fund, and oversee operations in supervisor’s absence assistant receptionist, tiffany square care center, grand island, ne (jan – june 20xx)  arranged and facilitated weekend activities for residents  contacted families to set up dates and times to review and discuss care plans  delivered and read mail to residents, providing companionship and social interaction  filed confidential paperwork and provided receptionist/administrative support for the center employment trainer, central ne goodwill industries, grand island, ne (aug 19xx – may 20xx)  managed a caseload of twenty consumers and provided on-the-job coaching to help them succeed  conducted group job search training sessions and assisted consumers with completion of job applications, cover letters and resumes criminal justice/shelter advocate, crisis center inc & family violence coalition, grand island, ne (july 20xx – oct 20xx)  responded to crisis calls and provided support to victims of domestic abuse  completed paperwork to document circumstances surrounding alleged abuse for judicial review social services assistant, tiffany square care center, grand island, ne (jan 20xx – sept 20xx)  conducted tours, provided orientation and general assistance for new residents  completed social histories, inventoried clothing, and met one-on-one with residents to help them understand their rights and responsibilities  assisted the center in meeting critical staffing needs during peak times by working as a certified nursing assistant, dietary aide, receptionist and van driver community service volunteer, women’s health services, grand island, ne (fall 20xx – present)  assisted professional staff and participated in one-on-one discussions with women seeking advice on health-related issues  observed group training sessions to develop the skills needed to facilitate groups in the future\n",
            "\n"
          ]
        }
      ]
    }
  ]
}