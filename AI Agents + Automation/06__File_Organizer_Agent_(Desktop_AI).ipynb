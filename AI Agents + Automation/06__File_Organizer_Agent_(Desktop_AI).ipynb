{
  "nbformat": 4,
  "nbformat_minor": 0,
  "metadata": {
    "colab": {
      "provenance": [],
      "authorship_tag": "ABX9TyPPD0ky9Y+3oMsWFaqVNxp3",
      "include_colab_link": true
    },
    "kernelspec": {
      "name": "python3",
      "display_name": "Python 3"
    },
    "language_info": {
      "name": "python"
    }
  },
  "cells": [
    {
      "cell_type": "markdown",
      "metadata": {
        "id": "view-in-github",
        "colab_type": "text"
      },
      "source": [
        "<a href=\"https://colab.research.google.com/github/Mohammadhsiavash/DeepL-Training/blob/main/AI%20Agents%20%2B%20Automation/06__File_Organizer_Agent_(Desktop_AI).ipynb\" target=\"_parent\"><img src=\"https://colab.research.google.com/assets/colab-badge.svg\" alt=\"Open In Colab\"/></a>"
      ]
    },
    {
      "cell_type": "markdown",
      "source": [
        "**Build a file-sorting agent that:**\n",
        "1. Scans a folder (e.g., Desktop or Downloads)\n",
        "2. Understands file types and purposes\n",
        "3. Moves files into organized folders (e.g., PDFs → Documents , images → Photos ,\n",
        "installers → Apps )\n",
        "4. Optionally classifies based on AI analysis (e.g., read resume content)"
      ],
      "metadata": {
        "id": "cC48JAGBKYYP"
      }
    },
    {
      "cell_type": "markdown",
      "source": [
        "**Agent Patern: Tool-Using + File Reasoning Agent**\n",
        "\n",
        "**Tools:** file scanner, file mover, file content analyzer\n",
        "\n",
        "**Skills:** patern recognition, file classificaon, folder creation"
      ],
      "metadata": {
        "id": "gh5b1oz2KnYV"
      }
    },
    {
      "cell_type": "code",
      "source": [
        "!pip install python-magic pillow pdfminer.six"
      ],
      "metadata": {
        "colab": {
          "base_uri": "https://localhost:8080/"
        },
        "id": "so0QTrp9KVX3",
        "outputId": "c388c73e-138b-4dfe-a823-d362be321b6c"
      },
      "execution_count": 2,
      "outputs": [
        {
          "output_type": "stream",
          "name": "stdout",
          "text": [
            "Collecting python-magic\n",
            "  Downloading python_magic-0.4.27-py2.py3-none-any.whl.metadata (5.8 kB)\n",
            "Requirement already satisfied: pillow in /usr/local/lib/python3.12/dist-packages (11.3.0)\n",
            "Collecting pdfminer.six\n",
            "  Downloading pdfminer_six-20250506-py3-none-any.whl.metadata (4.2 kB)\n",
            "Requirement already satisfied: charset-normalizer>=2.0.0 in /usr/local/lib/python3.12/dist-packages (from pdfminer.six) (3.4.3)\n",
            "Requirement already satisfied: cryptography>=36.0.0 in /usr/local/lib/python3.12/dist-packages (from pdfminer.six) (43.0.3)\n",
            "Requirement already satisfied: cffi>=1.12 in /usr/local/lib/python3.12/dist-packages (from cryptography>=36.0.0->pdfminer.six) (1.17.1)\n",
            "Requirement already satisfied: pycparser in /usr/local/lib/python3.12/dist-packages (from cffi>=1.12->cryptography>=36.0.0->pdfminer.six) (2.22)\n",
            "Downloading python_magic-0.4.27-py2.py3-none-any.whl (13 kB)\n",
            "Downloading pdfminer_six-20250506-py3-none-any.whl (5.6 MB)\n",
            "\u001b[2K   \u001b[90m━━━━━━━━━━━━━━━━━━━━━━━━━━━━━━━━━━━━━━━━\u001b[0m \u001b[32m5.6/5.6 MB\u001b[0m \u001b[31m43.3 MB/s\u001b[0m eta \u001b[36m0:00:00\u001b[0m\n",
            "\u001b[?25hInstalling collected packages: python-magic, pdfminer.six\n",
            "Successfully installed pdfminer.six-20250506 python-magic-0.4.27\n"
          ]
        }
      ]
    },
    {
      "cell_type": "markdown",
      "source": [
        "# Define File Classification Logic"
      ],
      "metadata": {
        "id": "AyvANs_OLXxj"
      }
    },
    {
      "cell_type": "code",
      "source": [
        "import os\n",
        "import shutil\n",
        "def classify_file(file_path):\n",
        "  ext = file_path.lower().split('.')[-1]\n",
        "  if ext in [\"jpg\", \"png\", \"jpeg\"]:\n",
        "    return \"Images\"\n",
        "  elif ext in [\"pdf\", \"docx\", \"txt\"]:\n",
        "    return \"Documents\"\n",
        "  elif ext in [\"exe\", \"dmg\", \"msi\"]:\n",
        "    return \"Installers\"\n",
        "  elif ext in [\"mp4\", \"mkv\", \"mov\"]:\n",
        "    return \"Videos\"\n",
        "  elif ext in [\"csv\", \"xlsx\"]:\n",
        "    return \"Spreadsheets\"\n",
        "  else:\n",
        "    return \"Others\""
      ],
      "metadata": {
        "id": "p0n9wxvBLIXw"
      },
      "execution_count": 3,
      "outputs": []
    },
    {
      "cell_type": "markdown",
      "source": [
        "# Create the Organizer Agent"
      ],
      "metadata": {
        "id": "iR5RogIYL1c4"
      }
    },
    {
      "cell_type": "code",
      "source": [
        "def organize_folder(folder_path):\n",
        "  print(f\"📂 Scanning {folder_path}...\")\n",
        "  for filename in os.listdir(folder_path):\n",
        "    full_path = os.path.join(folder_path, filename)\n",
        "    if os.path.isfile(full_path):\n",
        "      category = classify_file(full_path)\n",
        "      target_dir = os.path.join(folder_path, category)\n",
        "      os.makedirs(target_dir, exist_ok=True)\n",
        "      shutil.move(full_path, os.path.join(target_dir, filename))\n",
        "      print(f\"Moved: {filename} → {category}/\")"
      ],
      "metadata": {
        "id": "LueecMhMLwA7"
      },
      "execution_count": 4,
      "outputs": []
    },
    {
      "cell_type": "markdown",
      "source": [
        "# Add Optional AI Reasoning (e.g., Detect Resume)"
      ],
      "metadata": {
        "id": "EceBWx_LMleU"
      }
    },
    {
      "cell_type": "code",
      "source": [
        "from pdfminer.high_level import extract_text\n",
        "\n",
        "def is_resume(file_path):\n",
        "  try:\n",
        "    text = extract_text(file_path)\n",
        "    keywords = [\"objective\", \"experience\", \"education\", \"skills\"]\n",
        "    return sum(k in text.lower() for k in keywords) >= 2\n",
        "  except:\n",
        "    return False\n",
        "  def advanced_classifier(file_path):\n",
        "    if file_path.endswith(\".pdf\") and is_resume(file_path):\n",
        "      return \"Resumes\"\n",
        "    else:\n",
        "      return classify_file(file_path)"
      ],
      "metadata": {
        "id": "vgTTOQGvMhzT"
      },
      "execution_count": 5,
      "outputs": []
    },
    {
      "cell_type": "markdown",
      "source": [
        "# Run It"
      ],
      "metadata": {
        "id": "C0b_i5evNwUB"
      }
    },
    {
      "cell_type": "code",
      "source": [
        "desktop_path = os.path.expanduser(\"/content/test_files\")\n",
        "organize_folder(desktop_path)"
      ],
      "metadata": {
        "colab": {
          "base_uri": "https://localhost:8080/"
        },
        "id": "oMh593wVNuoj",
        "outputId": "fe1facb2-7002-4ad7-d5dd-7d2990fe65bd"
      },
      "execution_count": 8,
      "outputs": [
        {
          "output_type": "stream",
          "name": "stdout",
          "text": [
            "📂 Scanning /content/test_files...\n"
          ]
        }
      ]
    },
    {
      "cell_type": "code",
      "source": [],
      "metadata": {
        "id": "DemsOBQSOMSR"
      },
      "execution_count": null,
      "outputs": []
    }
  ]
}